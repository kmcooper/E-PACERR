{
  "nbformat": 4,
  "nbformat_minor": 0,
  "metadata": {
    "colab": {
      "name": "EPACERR_Reproducibility_HelloWorld.ipynb",
      "provenance": [],
      "collapsed_sections": [],
      "authorship_tag": "ABX9TyMy/hdw5s/ZHyFGEh0Xy9P3",
      "include_colab_link": true
    },
    "kernelspec": {
      "name": "python3",
      "display_name": "Python 3"
    },
    "language_info": {
      "name": "python"
    }
  },
  "cells": [
    {
      "cell_type": "markdown",
      "metadata": {
        "id": "view-in-github",
        "colab_type": "text"
      },
      "source": [
        "<a href=\"https://colab.research.google.com/github/kmcooper/E-PACERR/blob/main/EPACERR_Reproducibility_HelloWorld.ipynb\" target=\"_parent\"><img src=\"https://colab.research.google.com/assets/colab-badge.svg\" alt=\"Open In Colab\"/></a>"
      ]
    },
    {
      "cell_type": "markdown",
      "source": [
        "The simple way to code Hello world! in Python:"
      ],
      "metadata": {
        "id": "WL7oac-G7phz"
      }
    },
    {
      "cell_type": "code",
      "source": [
        "print(\"Hello world!\")"
      ],
      "metadata": {
        "colab": {
          "base_uri": "https://localhost:8080/"
        },
        "id": "3S0B9vuW7r_U",
        "outputId": "d27d099a-36c0-48d8-83c7-f5a539e26ddd"
      },
      "execution_count": 10,
      "outputs": [
        {
          "output_type": "stream",
          "name": "stdout",
          "text": [
            "Hello world!\n"
          ]
        }
      ]
    },
    {
      "cell_type": "markdown",
      "source": [
        "Another way to code Hello world! in Python:"
      ],
      "metadata": {
        "id": "f4DTCeD37wO6"
      }
    },
    {
      "cell_type": "code",
      "source": [
        "message = \"Hello world!\"\n",
        "for character in message:\n",
        "  print(character,end='')"
      ],
      "metadata": {
        "colab": {
          "base_uri": "https://localhost:8080/"
        },
        "id": "KzGDB9He7zYn",
        "outputId": "17bd7da3-4219-40de-dff2-129377e716f5"
      },
      "execution_count": 11,
      "outputs": [
        {
          "output_type": "stream",
          "name": "stdout",
          "text": [
            "Hello world!"
          ]
        }
      ]
    },
    {
      "cell_type": "markdown",
      "source": [
        "And another way to **reproduce** the Hello world! message in Python:"
      ],
      "metadata": {
        "id": "8D8Ruye276V3"
      }
    },
    {
      "cell_type": "code",
      "source": [
        "greeting = \"Hello\"\n",
        "greetee = \"world\"\n",
        "print(greeting + ' ' + greetee + '!')"
      ],
      "metadata": {
        "colab": {
          "base_uri": "https://localhost:8080/"
        },
        "id": "lBPMBq0Y8ACm",
        "outputId": "6bf5f22e-2a20-40ea-d89b-06bbb8a47627"
      },
      "execution_count": 12,
      "outputs": [
        {
          "output_type": "stream",
          "name": "stdout",
          "text": [
            "Hello world!\n"
          ]
        }
      ]
    }
  ]
}
